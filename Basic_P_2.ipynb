{
 "cells": [
  {
   "cell_type": "code",
   "execution_count": null,
   "id": "2b01d38f",
   "metadata": {},
   "outputs": [],
   "source": [
    "1.What are the two values of the Boolean data type? How do you write them?\n",
    "\n",
    "True and False are the two values of the Boolean data type. Notice that 'T' and 'F' are capital.true and false are not valid booleans and Python will throw an error for them.Internally Python represents True as 1 and False as 0 "
   ]
  },
  {
   "cell_type": "code",
   "execution_count": null,
   "id": "70838b35",
   "metadata": {},
   "outputs": [],
   "source": [
    "2. What are the three different types of Boolean operators?\n",
    "\n",
    "AND operator - && or \"and\"\n",
    "OR operator - || or \"or\"\n",
    "NOT operator - not"
   ]
  },
  {
   "cell_type": "code",
   "execution_count": null,
   "id": "079e617c",
   "metadata": {},
   "outputs": [],
   "source": [
    "3. Make a list of each Boolean operator's truth tables (i.e. every possible combination of Boolean values for the operator and what it evaluate ).\n",
    "\n",
    "True and True is True.\n",
    "True and False is False.\n",
    "False and True is False.\n",
    "False and False is False.\n",
    "\n",
    "True or True is True.\n",
    "True or False is True.\n",
    "False or True is True.\n",
    "False or False is False.\n",
    "\n",
    "not True is False.\n",
    "not False is True."
   ]
  },
  {
   "cell_type": "code",
   "execution_count": null,
   "id": "3e6cb869",
   "metadata": {},
   "outputs": [],
   "source": [
    "4. What are the values of the following expressions?\n",
    "\n",
    "(5 > 4) and (3 == 5) -> False\n",
    "not (5 > 4) -> False\n",
    "(5 > 4) or (3 == 5) -> True\n",
    "not ((5 > 4) or (3 == 5)) -> False\n",
    "(True and True) and (True == False) -> False\n",
    "(not False) or (not True) -> True\n"
   ]
  },
  {
   "cell_type": "code",
   "execution_count": null,
   "id": "bc972048",
   "metadata": {},
   "outputs": [],
   "source": [
    "5. What are the six comparison operators?\n",
    "\n",
    "!=  not equal\n",
    "==  equal to\n",
    ">   greater than\n",
    ">=  greater than or equal to\n",
    "<   less than\n",
    "<=  lesser than or equal to"
   ]
  },
  {
   "cell_type": "code",
   "execution_count": null,
   "id": "69f698c2",
   "metadata": {},
   "outputs": [],
   "source": [
    "6. How do you tell the difference between the equal to and assignment operators?Describe a condition and when you would use one.\n",
    "\n",
    "The “=” is an assignment operator is used to assign the value on the right to the variable on the left.e.g a=6\n",
    "The ‘==’ operator checks whether the two given operands are equal or not. If so, it returns true. Otherwise it returns false.e.g 9==9"
   ]
  },
  {
   "cell_type": "code",
   "execution_count": null,
   "id": "1efc10fe",
   "metadata": {},
   "outputs": [],
   "source": [
    "7. Identify the three blocks in this code:\n",
    "    \n",
    "spam = 0\n",
    "if spam == 10: \n",
    "print('eggs')\n",
    "if spam > 5: \n",
    "print('bacon')\n",
    "else: \n",
    "print('ham')\n",
    "print('spam')\n",
    "print('spam')\n",
    "\n",
    "The three blocks are inside the if statement and the lines print('bacon') and print('ham').\n",
    "print('eggs') if spam > 5: print('bacon') else: print('ham') print('spam')"
   ]
  },
  {
   "cell_type": "code",
   "execution_count": null,
   "id": "4cb0187c",
   "metadata": {},
   "outputs": [],
   "source": [
    "8. Write code that prints Hello if 1 is stored in spam, prints Howdy if 2 is stored in spam, and prints Greetings! if anything else is stored in spam.\n",
    "\n",
    "spam = int(input(\"enter\"))\n",
    "if spam == 1:\n",
    "    print(\"hello\")\n",
    "elif spam == 2:\n",
    "    print(\"Howdy\")\n",
    "else :\n",
    "    print(\"Greetings\")"
   ]
  },
  {
   "cell_type": "code",
   "execution_count": null,
   "id": "50a183e7",
   "metadata": {},
   "outputs": [],
   "source": [
    "9.If your programme is stuck in an endless loop, what keys you’ll press?\n",
    "\n",
    "CTRL-C is used to stop a program stuck in an infinite loop"
   ]
  },
  {
   "cell_type": "code",
   "execution_count": null,
   "id": "1568b4fc",
   "metadata": {},
   "outputs": [],
   "source": [
    "10. How can you tell the difference between break and continue?\n",
    "\n",
    "The break statement is used to terminate the loop or statement in which it is present. After that, the control will pass to the statements that are present after the break statement, if available. If the break statement is present in the nested loop, then it terminates only those loops which contains break statement.\n",
    "\n",
    "Continue is also a loop control statement just like the break statement and is opposite to that of break statement, instead of terminating the loop, it forces to execute the next iteration of the loop."
   ]
  },
  {
   "cell_type": "code",
   "execution_count": null,
   "id": "1a3a8f17",
   "metadata": {},
   "outputs": [],
   "source": [
    "11. In a for loop, what is the difference between range(10), range(0, 10), and range(0, 10, 1)?\n",
    "\n",
    "All the functions will give same result i.e 0,1,2,3,4,5,6,7,8,9\n",
    "range(10) - It will provide the range of sequence of numbers by excluding upper bound\n",
    "range(0,10) - It will provide the range of sequence of numbers with start index =0 and end index =10\n",
    "range(0,10,1) - It will provide the range of sequence of numbers with start index =0,end index =10 and step index =1"
   ]
  },
  {
   "cell_type": "code",
   "execution_count": null,
   "id": "7988f8fb",
   "metadata": {},
   "outputs": [],
   "source": [
    "12. Write a short program that prints the numbers 1 to 10 using a for loop. Then write an equivalent program that prints the numbers 1 to 10 using a while loop.\n",
    "\n",
    "for i in range(1,11):\n",
    "    print(i)\n",
    "    \n",
    "i=1\n",
    "while i<11:\n",
    "    print(i)\n",
    "    if i==10:\n",
    "        break\n",
    "    i=i+1"
   ]
  },
  {
   "cell_type": "code",
   "execution_count": null,
   "id": "ef1cb74c",
   "metadata": {},
   "outputs": [],
   "source": [
    "13. If you had a function named bacon() inside a module named spam, how would you call it after importing spam?\n",
    "\n",
    "Function can be called by using spam.bacon()."
   ]
  }
 ],
 "metadata": {
  "kernelspec": {
   "display_name": "Python 3 (ipykernel)",
   "language": "python",
   "name": "python3"
  },
  "language_info": {
   "codemirror_mode": {
    "name": "ipython",
    "version": 3
   },
   "file_extension": ".py",
   "mimetype": "text/x-python",
   "name": "python",
   "nbconvert_exporter": "python",
   "pygments_lexer": "ipython3",
   "version": "3.9.7"
  }
 },
 "nbformat": 4,
 "nbformat_minor": 5
}
