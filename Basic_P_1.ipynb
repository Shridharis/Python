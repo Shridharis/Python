{
 "cells": [
  {
   "cell_type": "raw",
   "id": "f779d1df",
   "metadata": {},
   "source": [
    "1. In the below elements which of them are values or an expression? eg:- values can be integer or string and expressions will be mathematical operators.\n",
    "\n",
    "* - expression (multiplication operator)\n",
    "'hello' - value (string)\n",
    "-87.8 - value ( float)\n",
    "- - expression ( subtraction operator)\n",
    "/ - expression ( division operator)\n",
    "+ - expression (additional operator)\n",
    "6 - value (int)\n"
   ]
  },
  {
   "cell_type": "raw",
   "id": "1a53b461",
   "metadata": {},
   "source": [
    "2. What is the difference between string and variable?\n",
    "\n",
    "String - It is one of the datatype which is combination of characters enclosed in double quotes\n",
    "Varibale - It is place holder which is used to the store different datatypes i.e value "
   ]
  },
  {
   "cell_type": "raw",
   "id": "b9916f26",
   "metadata": {},
   "source": [
    "3. Describe three different data types.\n",
    "\n",
    "--> Numeric - Data type represent the data which has numeric value.These values are defined as int, float and complex class in Python.\n",
    "--> Sequence - Sequence is the ordered collection of similar or different data types. Sequences allows to store multiple values in an organized and efficient fashion. List,tuple,string comes under sequence datatype.\n",
    "-->Boolean - Data type with one of the two built-in values, True or False. Boolean objects that are equal to True are truthy (true), and those equal to False are falsy (false). \n",
    "--> Set - It is an unordered collection of data type that is iterable, mutable and has no duplicate elements. \n",
    "--> Dictionary - It is an unordered collection of data values, used to store data values like a map, which unlike other Data Types that hold only single value as an element, Dictionary holds key:value pair."
   ]
  },
  {
   "cell_type": "raw",
   "id": "d1a13be2",
   "metadata": {},
   "source": [
    "4. What is an expression made up of? What do all expressions do?\n",
    "\n",
    "An expression is a combination of operators and operands that is interpreted to produce some other value. It is evaluated as per the precedence of its operators, so that if there is more than one operator in an expression, their precedence decides which operation will be performed first. Below are the different types of expressions\n",
    "1. Constant Expressions: These are the expressions that have constant values only.\n",
    "2. Arithmetic Expressions: An arithmetic expression is a combination of numeric values, operators, and sometimes parenthesis. The result of this type of expression is also a numeric value. The operators used in these expressions are arithmetic operators like addition, subtraction, etc. \n",
    "3. Integral Expressions: These are the kind of expressions that produce only integer results after all computations and type conversions.\n",
    "4. Floating Expressions: These are the kind of expressions which produce floating point numbers as result after all computations and type conversions.\n",
    "5. Relational Expressions: In these types of expressions, arithmetic expressions are written on both sides of relational operator (> , < , >= , <=). Those arithmetic expressions are evaluated first, and then compared as per relational operator and produce a boolean output in the end. These expressions are also called Boolean expressions.\n",
    "6. Logical Expressions: These are kinds of expressions that result in either True or False. It basically specifies one or more conditions. For example, (10 == 9) is a condition if 10 is equal to 9. As we know it is not correct, so it will return False. Studying logical expressions, we also come across some logical operators which can be seen in logical expressions most often. \n",
    "7. Bitwise Expressions: These are the kind of expressions in which computations are performed at bit level.\n",
    "8. Combinational Expressions: We can also use different types of expressions in a single expression, and that will be termed as combinational expressions."
   ]
  },
  {
   "cell_type": "raw",
   "id": "cea7dbe4",
   "metadata": {},
   "source": [
    "i5. This assignment statements, like spam = 10. What is the difference between an expression and a statement?\n",
    "\n",
    "An expression usually refers to a piece of code that can be evaluated to a value, and is composed of variables, operators, function calls, and literals.Common examples of expressions are method calls and mathematical operations.\n",
    "\n",
    "A statement refers to a piece of code that executes a specific instruction or tells the computer to complete a task and it can take the form of assignments, control statements, import statements, loop statements, jump statements, or method calls."
   ]
  },
  {
   "cell_type": "raw",
   "id": "dea9b7f9",
   "metadata": {},
   "source": [
    "6. After running the following code, what does the variable bacon contain?\n",
    "bacon = 22\n",
    "bacon + 1\n",
    "\n",
    "bacon = 23"
   ]
  },
  {
   "cell_type": "code",
   "execution_count": null,
   "id": "aea24451",
   "metadata": {},
   "outputs": [],
   "source": [
    "7. What should the values of the following two terms be?\n",
    "'spam' + 'spamspam'\n",
    "'spam' * 3\n",
    "\n",
    "'spam' + 'spamspam' - 'spamspamspam'\n",
    "'spam' * 3 - 'spamspamspam'\n"
   ]
  },
  {
   "cell_type": "raw",
   "id": "4aba7da5",
   "metadata": {},
   "source": [
    "8. Why is eggs a valid variable name while 100 is invalid?\n",
    "\n",
    "Varible name can't start with integer, but it can begin with string-like alphabet name then integer i.e e100 or eggs100 is valid."
   ]
  },
  {
   "cell_type": "raw",
   "id": "36d36629",
   "metadata": {},
   "source": [
    "9. What three functions can be used to get the integer, floating-point number, or string version of a value?\n",
    "\n",
    "int(), float() , str()"
   ]
  },
  {
   "cell_type": "raw",
   "id": "dce239c6",
   "metadata": {},
   "source": [
    "10. Why does this expression cause an error? How can you fix it?\n",
    "'I have eaten ' + 99 + ' burritos.'\n",
    "\n",
    "Since 99 is an integer cannot be concatenated with strings. It can be fixed by using typecasting like below\n",
    "'I have eaten ' + str(99) + ' burritos.'"
   ]
  }
 ],
 "metadata": {
  "kernelspec": {
   "display_name": "Python 3 (ipykernel)",
   "language": "python",
   "name": "python3"
  },
  "language_info": {
   "codemirror_mode": {
    "name": "ipython",
    "version": 3
   },
   "file_extension": ".py",
   "mimetype": "text/x-python",
   "name": "python",
   "nbconvert_exporter": "python",
   "pygments_lexer": "ipython3",
   "version": "3.9.7"
  }
 },
 "nbformat": 4,
 "nbformat_minor": 5
}
